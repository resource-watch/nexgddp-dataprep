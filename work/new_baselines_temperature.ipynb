{
 "cells": [
  {
   "cell_type": "code",
   "execution_count": 1,
   "metadata": {
    "collapsed": true
   },
   "outputs": [],
   "source": [
    "%matplotlib inline\n",
    "import matplotlib.pyplot as plt\n",
    "from google.cloud import storage\n",
    "import os\n",
    "import netCDF4\n",
    "import numpy as np\n",
    "import numpy.ma as ma\n",
    "from dask import delayed\n",
    "import dask.array as da\n",
    "from dask.distributed import Client\n",
    "import glob\n",
    "import tempfile\n",
    "import subprocess\n",
    "import datetime, time\n",
    "from urllib import request\n",
    "from multiprocessing import Pool\n",
    "import json\n",
    "import gc\n",
    "import boto3\n",
    "import botocore\n",
    "\n",
    "storage_client = storage.Client.from_service_account_json('/home/jovyan/work/credentials.json')\n",
    "bucket = storage_client.get_bucket('nex-gddp')\n",
    "nex_bucket = 'nasanex'\n",
    "base_key_path = lambda var: f'NEX-GDDP/BCSD/historical/day/atmos/{var}/r1i1p1/v1.0/'\n",
    "all_models = [\"ACCESS1-0\",\"BNU-ESM\",\"CCSM4\",\"CESM1-BGC\",\"CNRM-CM5\",\"CSIRO-Mk3-6-0\",\"CanESM2\",\"GFDL-CM3\",\"GFDL-ESM2G\",\"GFDL-ESM2M\",\"IPSL-CM5A-LR\",\"IPSL-CM5A-MR\",\"MIROC-ESM-CHEM\",\"MIROC-ESM\",\"MIROC5\",\"MPI-ESM-LR\",\"MPI-ESM-MR\",\"MRI-CGCM3\",\"NorESM1-M\",\"bcc-csm1-1\",\"inmcm4\"]\n",
    "some_models = [\"ACCESS1-0\",\"BNU-ESM\",\"CCSM4\"]\n",
    "client = Client('scheduler:8786')\n",
    "s3 = boto3.resource('s3')\n",
    "\n",
    "# Average of models per year\n",
    "def gen_netcdf_id(model, scenario, year, var):\n",
    "    id =  base_key_path(var) + f'{var}_day_BCSD_{scenario}_r1i1p1_{model}_{str(year)}.nc'\n",
    "    return id\n",
    "\n",
    "def download_file(file_id, nex_bucket = nex_bucket, download_location = '/temp'):\n",
    "    filename = f'{download_location}/{file_id.split(\"/\")[-1]}'\n",
    "    print(f\"Downloading {filename}\")\n",
    "    s3.Bucket(nex_bucket).download_file(file_id, filename)\n",
    "    #try:\n",
    "    #    s3.Bucket(loca_bucket).download_file(file_id, filename)\n",
    "    #except botocore.exceptions.ClientError as e:\n",
    "    #    if e.response['Error']['Code'] == \"404\":\n",
    "    #        file_id = file_id.replace('r1i1p1', 'r6i1p1')\n",
    "    #        s3.Bucket(loca_bucket).download_file(file_id, filename)\n",
    "    #except:\n",
    "    #    filename = None\n",
    "    return filename\n",
    "\n",
    "\n",
    "\n",
    "def cleanup():\n",
    "    for file in glob.glob('/temp/*'):\n",
    "        os.remove(file)\n",
    "\n",
    "def process_baseline_year(year, var, models = all_models, file_prefix = \"\"):\n",
    "    print(\"Generating ids\")\n",
    "    ids = [gen_netcdf_id(model, 'historical', year, var) for model in models]\n",
    "    print(ids)\n",
    "    print(\"Downloading files\")\n",
    "    pool = Pool()\n",
    "    filenames = pool.map(download_file, ids)\n",
    "    # shape = (365, 490, 960)\n",
    "    print(\"Stacking files\")\n",
    "    arr_list = list(map(lambda fn: da.from_array(netCDF4.Dataset(fn)[var], chunks = (366, 245, 240)), filenames))\n",
    "    arr_stack = da.stack(arr_list)\n",
    "    print(\"Calculating average\")\n",
    "    year_avg = np.mean(arr_stack, axis = 0).compute()\n",
    "    result_filename = f\"/temp/{file_prefix}_{year}_{var}_baseline_average.npy\"\n",
    "    np.save(result_filename, year_avg)\n",
    "    blob = bucket.blob(f'{file_prefix}/baseline/{var}/intermediate/{result_filename.split(\"/\")[-1]}')\n",
    "    blob.upload_from_filename(result_filename)\n",
    "    print(result_filename)\n",
    "    return None"
   ]
  },
  {
   "cell_type": "code",
   "execution_count": null,
   "metadata": {},
   "outputs": [
    {
     "name": "stdout",
     "output_type": "stream",
     "text": [
      "Generating ids\n",
      "['NEX-GDDP/BCSD/historical/day/atmos/tasmax/r1i1p1/v1.0/tasmax_day_BCSD_historical_r1i1p1_ACCESS1-0_1981.nc', 'NEX-GDDP/BCSD/historical/day/atmos/tasmax/r1i1p1/v1.0/tasmax_day_BCSD_historical_r1i1p1_BNU-ESM_1981.nc', 'NEX-GDDP/BCSD/historical/day/atmos/tasmax/r1i1p1/v1.0/tasmax_day_BCSD_historical_r1i1p1_CCSM4_1981.nc', 'NEX-GDDP/BCSD/historical/day/atmos/tasmax/r1i1p1/v1.0/tasmax_day_BCSD_historical_r1i1p1_CESM1-BGC_1981.nc', 'NEX-GDDP/BCSD/historical/day/atmos/tasmax/r1i1p1/v1.0/tasmax_day_BCSD_historical_r1i1p1_CNRM-CM5_1981.nc', 'NEX-GDDP/BCSD/historical/day/atmos/tasmax/r1i1p1/v1.0/tasmax_day_BCSD_historical_r1i1p1_CSIRO-Mk3-6-0_1981.nc', 'NEX-GDDP/BCSD/historical/day/atmos/tasmax/r1i1p1/v1.0/tasmax_day_BCSD_historical_r1i1p1_CanESM2_1981.nc', 'NEX-GDDP/BCSD/historical/day/atmos/tasmax/r1i1p1/v1.0/tasmax_day_BCSD_historical_r1i1p1_GFDL-CM3_1981.nc', 'NEX-GDDP/BCSD/historical/day/atmos/tasmax/r1i1p1/v1.0/tasmax_day_BCSD_historical_r1i1p1_GFDL-ESM2G_1981.nc', 'NEX-GDDP/BCSD/historical/day/atmos/tasmax/r1i1p1/v1.0/tasmax_day_BCSD_historical_r1i1p1_GFDL-ESM2M_1981.nc', 'NEX-GDDP/BCSD/historical/day/atmos/tasmax/r1i1p1/v1.0/tasmax_day_BCSD_historical_r1i1p1_IPSL-CM5A-LR_1981.nc', 'NEX-GDDP/BCSD/historical/day/atmos/tasmax/r1i1p1/v1.0/tasmax_day_BCSD_historical_r1i1p1_IPSL-CM5A-MR_1981.nc', 'NEX-GDDP/BCSD/historical/day/atmos/tasmax/r1i1p1/v1.0/tasmax_day_BCSD_historical_r1i1p1_MIROC-ESM-CHEM_1981.nc', 'NEX-GDDP/BCSD/historical/day/atmos/tasmax/r1i1p1/v1.0/tasmax_day_BCSD_historical_r1i1p1_MIROC-ESM_1981.nc', 'NEX-GDDP/BCSD/historical/day/atmos/tasmax/r1i1p1/v1.0/tasmax_day_BCSD_historical_r1i1p1_MIROC5_1981.nc', 'NEX-GDDP/BCSD/historical/day/atmos/tasmax/r1i1p1/v1.0/tasmax_day_BCSD_historical_r1i1p1_MPI-ESM-LR_1981.nc', 'NEX-GDDP/BCSD/historical/day/atmos/tasmax/r1i1p1/v1.0/tasmax_day_BCSD_historical_r1i1p1_MPI-ESM-MR_1981.nc', 'NEX-GDDP/BCSD/historical/day/atmos/tasmax/r1i1p1/v1.0/tasmax_day_BCSD_historical_r1i1p1_MRI-CGCM3_1981.nc', 'NEX-GDDP/BCSD/historical/day/atmos/tasmax/r1i1p1/v1.0/tasmax_day_BCSD_historical_r1i1p1_NorESM1-M_1981.nc', 'NEX-GDDP/BCSD/historical/day/atmos/tasmax/r1i1p1/v1.0/tasmax_day_BCSD_historical_r1i1p1_bcc-csm1-1_1981.nc', 'NEX-GDDP/BCSD/historical/day/atmos/tasmax/r1i1p1/v1.0/tasmax_day_BCSD_historical_r1i1p1_inmcm4_1981.nc']\n",
      "Downloading files\n",
      "Downloading /temp/tasmax_day_BCSD_historical_r1i1p1_CCSM4_1981.nc\n",
      "Downloading /temp/tasmax_day_BCSD_historical_r1i1p1_ACCESS1-0_1981.nc\n",
      "Downloading /temp/tasmax_day_BCSD_historical_r1i1p1_CNRM-CM5_1981.nc\n",
      "Downloading /temp/tasmax_day_BCSD_historical_r1i1p1_CanESM2_1981.nc\n",
      "Downloading /temp/tasmax_day_BCSD_historical_r1i1p1_GFDL-CM3_1981.nc\n",
      "Downloading /temp/tasmax_day_BCSD_historical_r1i1p1_CESM1-BGC_1981.nc\n",
      "Downloading /temp/tasmax_day_BCSD_historical_r1i1p1_BNU-ESM_1981.nc\n",
      "Downloading /temp/tasmax_day_BCSD_historical_r1i1p1_CSIRO-Mk3-6-0_1981.nc\n",
      "Downloading /temp/tasmax_day_BCSD_historical_r1i1p1_GFDL-ESM2G_1981.nc\n",
      "Downloading /temp/tasmax_day_BCSD_historical_r1i1p1_IPSL-CM5A-LR_1981.nc\n",
      "Downloading /temp/tasmax_day_BCSD_historical_r1i1p1_MIROC-ESM-CHEM_1981.nc\n",
      "Downloading /temp/tasmax_day_BCSD_historical_r1i1p1_MIROC5_1981.nc\n",
      "Downloading /temp/tasmax_day_BCSD_historical_r1i1p1_IPSL-CM5A-MR_1981.nc\n",
      "Downloading /temp/tasmax_day_BCSD_historical_r1i1p1_GFDL-ESM2M_1981.nc\n",
      "Downloading /temp/tasmax_day_BCSD_historical_r1i1p1_MPI-ESM-LR_1981.nc\n",
      "Downloading /temp/tasmax_day_BCSD_historical_r1i1p1_MIROC-ESM_1981.nc\n",
      "Downloading /temp/tasmax_day_BCSD_historical_r1i1p1_MPI-ESM-MR_1981.nc\n",
      "Downloading /temp/tasmax_day_BCSD_historical_r1i1p1_NorESM1-M_1981.nc\n",
      "Downloading /temp/tasmax_day_BCSD_historical_r1i1p1_inmcm4_1981.nc\n",
      "Downloading /temp/tasmax_day_BCSD_historical_r1i1p1_MRI-CGCM3_1981.nc\n",
      "Downloading /temp/tasmax_day_BCSD_historical_r1i1p1_bcc-csm1-1_1981.nc\n",
      "Stacking files\n",
      "Calculating average\n"
     ]
    }
   ],
   "source": [
    "for year in range(1981, 2001):\n",
    "    try:\n",
    "        process_baseline_year(year, \"tasmax\", file_prefix = \"nexgddp_baseline_v2_tasmax\")\n",
    "    except ValueError as e:\n",
    "        pass\n",
    "    except:\n",
    "        raise\n",
    "            "
   ]
  },
  {
   "cell_type": "code",
   "execution_count": 3,
   "metadata": {
    "collapsed": true
   },
   "outputs": [],
   "source": [
    "#download_file(id_test)\n",
    "s3.Bucket(nex_bucket).download_file('NEX-GDDP/BCSD/historical/day/atmos/tasmax/r1i1p1/v1.0/tasmax_day_BCSD_historical_r1i1p1_ACCESS1-0_1971.nc', '/temp/test.nc')"
   ]
  },
  {
   "cell_type": "code",
   "execution_count": null,
   "metadata": {
    "collapsed": true
   },
   "outputs": [],
   "source": []
  }
 ],
 "metadata": {
  "kernelspec": {
   "display_name": "Python 3",
   "language": "python",
   "name": "python3"
  },
  "language_info": {
   "codemirror_mode": {
    "name": "ipython",
    "version": 3
   },
   "file_extension": ".py",
   "mimetype": "text/x-python",
   "name": "python",
   "nbconvert_exporter": "python",
   "pygments_lexer": "ipython3",
   "version": "3.6.3"
  }
 },
 "nbformat": 4,
 "nbformat_minor": 2
}
